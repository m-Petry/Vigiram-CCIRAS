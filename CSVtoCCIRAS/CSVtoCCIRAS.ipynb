{
 "cells": [
  {
   "cell_type": "code",
   "execution_count": null,
   "id": "6b0896d6",
   "metadata": {},
   "outputs": [],
   "source": [
    "# Bloco 1: importações\n",
    "import pandas as pd\n",
    "from pathlib import Path\n",
    "\n",
    "try:\n",
    "    NB_DIR = Path(__file__).parent.resolve()\n",
    "except NameError:\n",
    "    NB_DIR = Path().resolve()  # Jupyter\n",
    "\n",
    "REPO_ROOT = NB_DIR.parent\n",
    "IN_DIR = (REPO_ROOT / \"data\").resolve()\n",
    "OUT_DIR = (REPO_ROOT / \"outputs\").resolve()\n",
    "\n",
    "IN_DIR.mkdir(exist_ok=True)\n",
    "OUT_DIR.mkdir(exist_ok=True)\n",
    "\n",
    "print(\"IN_DIR =\", IN_DIR)\n",
    "print(\"OUT_DIR =\", OUT_DIR)\n"
   ]
  },
  {
   "cell_type": "code",
   "execution_count": null,
   "id": "e0ec782f",
   "metadata": {},
   "outputs": [],
   "source": [
    "def read_csv_robusto(caminho, **kwargs):\n",
    "    \"\"\"Le CSV tentando várias codificações.\"\"\"\n",
    "    encodings = [\"utf-8\", \"latin-1\", \"utf-16\", \"utf-8-sig\"]\n",
    "    for enc in encodings:\n",
    "        try:\n",
    "            return pd.read_csv(caminho, encoding=enc, **kwargs)\n",
    "        except UnicodeDecodeError:\n",
    "            continue\n",
    "    with open(caminho, 'r', errors='replace') as f:\n",
    "        return pd.read_csv(f, **kwargs)\n"
   ]
  },
  {
   "cell_type": "code",
   "execution_count": null,
   "id": "0000f3fc",
   "metadata": {},
   "outputs": [],
   "source": [
    "def criar_isolados_detalhados(df):\n",
    "    \"\"\"Tabela de isolados com nomes originais.\"\"\"\n",
    "    cols = {\n",
    "        \"dthr_liberada\": \"Data\",\n",
    "        \"codigo_paciente\": \"Código Paciente\",\n",
    "        \"paciente\": \"Paciente\",\n",
    "        \"unidade_solicitante\": \"Unidade\",\n",
    "        \"descmaterial_analise\": \"Tipo de Amostra\",\n",
    "        \"microorganismo\": \"Microrganismo\",\n",
    "        \"Antibiótico\": \"Antimicrobiano\",\n",
    "        \"RSI\": \"Resultado\"\n",
    "    }\n",
    "    disponiveis = [c for c in cols if c in df.columns]\n",
    "    return df[disponiveis].rename(columns=cols)\n"
   ]
  },
  {
   "cell_type": "code",
   "execution_count": null,
   "id": "8bcc1c18",
   "metadata": {},
   "outputs": [],
   "source": [
    "def criar_sensibilidade(df):\n",
    "    \"\"\"Agrega resultados de sensibilidade por microrganismo/antimicrobiano.\"\"\"\n",
    "    grupo = (\n",
    "        df.groupby([\"microorganismo\", \"Antibiótico\", \"RSI\"]).size()\n",
    "          .unstack(fill_value=0)\n",
    "    )\n",
    "    total = grupo.sum(axis=1)\n",
    "    pct = grupo.div(total, axis=0) * 100\n",
    "    grupo.columns = [f\"{c}_n\" for c in grupo.columns]\n",
    "    pct.columns = [f\"{c}_pct\" for c in pct.columns]\n",
    "    tabela = pd.concat([grupo, pct], axis=1).reset_index()\n",
    "    return tabela\n"
   ]
  },
  {
   "cell_type": "code",
   "execution_count": null,
   "id": "42705be4",
   "metadata": {},
   "outputs": [],
   "source": [
    "def criar_tendencia(df):\n",
    "    \"\"\"Resumo mensal de isolados e resistência.\"\"\"\n",
    "    df = df.copy()\n",
    "    data = pd.to_datetime(df[\"dthr_liberada\"])\n",
    "    df[\"Ano\"] = data.dt.year\n",
    "    df[\"Mes\"] = data.dt.month\n",
    "    total = (\n",
    "        df.groupby([\"Ano\", \"Mes\", \"microorganismo\"])[\"solicitacao\"]\n",
    "          .nunique()\n",
    "          .rename(\"total_isolados\")\n",
    "    )\n",
    "    resistentes = (\n",
    "        df[df[\"RSI\"] == \"R\"]\n",
    "        .groupby([\"Ano\", \"Mes\", \"microorganismo\"])[\"solicitacao\"]\n",
    "        .nunique()\n",
    "        .rename(\"resistentes\")\n",
    "    )\n",
    "    tendencia = total.to_frame().join(resistentes, how=\"left\").fillna(0)\n",
    "    tendencia[\"pct_resistentes\"] = (\n",
    "        tendencia[\"resistentes\"] / tendencia[\"total_isolados\"] * 100\n",
    "    )\n",
    "    return tendencia.reset_index()\n"
   ]
  },
  {
   "cell_type": "code",
   "execution_count": null,
   "id": "28cb6fac",
   "metadata": {},
   "outputs": [],
   "source": [
    "def criar_indicadores(df, cont_pos, cont_neg):\n",
    "    \"\"\"Calcula taxas de incidência unindo contagens de pacientes.\"\"\"\n",
    "    pos = cont_pos.rename(columns=str.lower)\n",
    "    neg = cont_neg.rename(columns=str.lower)\n",
    "    base = pos.merge(neg, on=\"unidade_solicitante\", how=\"outer\", suffixes=(\"_pos\", \"_neg\")).fillna(0)\n",
    "    base[\"total_amostras\"] = base.filter(regex=\"_pos|_neg\").sum(axis=1)\n",
    "    isolados = (\n",
    "        df.groupby([\"unidade_solicitante\", \"microorganismo\"])[\"codigo_paciente\"]\n",
    "          .nunique()\n",
    "          .rename(\"pacientes_positivos\")\n",
    "          .reset_index()\n",
    "    )\n",
    "    indicadores = isolados.merge(base, on=\"unidade_solicitante\", how=\"left\")\n",
    "    indicadores[\"taxa_inc\"] = (\n",
    "        indicadores[\"pacientes_positivos\"] / indicadores[\"total_amostras\"] * 1000\n",
    "    )\n",
    "    return indicadores\n"
   ]
  },
  {
   "cell_type": "code",
   "execution_count": null,
   "id": "4f03a517",
   "metadata": {},
   "outputs": [],
   "source": [
    "def gerar_excel_cciras(nome_base, df_vigiram, cont_pos, cont_neg):\n",
    "    \"\"\"Gera arquivo Excel com as quatro abas para o CCIRAS.\"\"\"\n",
    "    detalhado = criar_isolados_detalhados(df_vigiram)\n",
    "    sensibilidade = criar_sensibilidade(df_vigiram)\n",
    "    tendencia = criar_tendencia(df_vigiram)\n",
    "    indicadores = criar_indicadores(df_vigiram, cont_pos, cont_neg)\n",
    "\n",
    "    path_out = OUT_DIR / f\"cciras-{nome_base}.xlsx\"\n",
    "    with pd.ExcelWriter(path_out) as writer:\n",
    "        detalhado.to_excel(writer, index=False, sheet_name=\"Isolados Detalhados\")\n",
    "        sensibilidade.to_excel(writer, index=False, sheet_name=\"Sensibilidade\")\n",
    "        tendencia.to_excel(writer, index=False, sheet_name=\"Tendência Temporal\")\n",
    "        indicadores.to_excel(writer, index=False, sheet_name=\"Indicadores Epidemiológicos\")\n",
    "    print(\"✅ Arquivo gerado:\", path_out)\n"
   ]
  },
  {
   "cell_type": "code",
   "execution_count": null,
   "id": "bf186fef",
   "metadata": {},
   "outputs": [],
   "source": [
    "def processar_todos_arquivos_ano(ano: str):\n",
    "    \"\"\"Processa todos os vigiram-*.csv de determinado ano.\"\"\"\n",
    "    cont_pos = read_csv_robusto(IN_DIR / \"Contagem pacientes amostra positiva.csv\", dtype=str)\n",
    "    cont_neg = read_csv_robusto(IN_DIR / \"Contagem pacientes amostras negativas.csv\", dtype=str)\n",
    "    padrao = f\"vigiram-*{ano}.csv\"\n",
    "    for csv_path in sorted(IN_DIR.glob(padrao)):\n",
    "        nome_base = csv_path.stem.replace(\"vigiram-\", \"\")\n",
    "        print(f\"🔄 Processando {nome_base}...\")\n",
    "        df = read_csv_robusto(csv_path, dtype=str)\n",
    "        gerar_excel_cciras(nome_base, df, cont_pos, cont_neg)\n"
   ]
  },
  {
   "cell_type": "code",
   "execution_count": null,
   "id": "21b91ad9",
   "metadata": {},
   "outputs": [],
   "source": [
    "processar_todos_arquivos_ano(\"25\")"
   ]
  }
 ],
 "metadata": {},
 "nbformat": 4,
 "nbformat_minor": 5
}